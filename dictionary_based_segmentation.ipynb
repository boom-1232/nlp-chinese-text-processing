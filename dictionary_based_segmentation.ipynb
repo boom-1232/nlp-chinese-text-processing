{
  "cells": [
    {
      "cell_type": "code",
      "execution_count": null,
      "metadata": {
        "vscode": {
          "languageId": "plaintext"
        }
      },
      "outputs": [],
      "source": [
        "# 基于字典的中文分词\n",
        "\n",
        "本notebook演示如何使用jieba进行基于字典的中文分词，包括自定义词典的使用。\n",
        "\n",
        "## 任务目标\n",
        "1. 加载自定义词典\n",
        "2. 验证词典效果\n",
        "3. 对比分词结果\n"
      ]
    },
    {
      "cell_type": "code",
      "execution_count": null,
      "metadata": {},
      "outputs": [],
      "source": [
        "# 导入必要的库\n",
        "import jieba\n",
        "import jieba.posseg as pseg\n",
        "\n",
        "# 检查jieba版本\n",
        "print(f\"jieba版本: {jieba.__version__}\")\n",
        "print(\"=\" * 50)\n"
      ]
    },
    {
      "cell_type": "code",
      "execution_count": null,
      "metadata": {
        "vscode": {
          "languageId": "plaintext"
        }
      },
      "outputs": [],
      "source": [
        "## 载入词典\n",
        "\n",
        "使用jieba.load_userdict()方法加载自定义词典，确保Claude等专有名词能被正确识别。\n"
      ]
    },
    {
      "cell_type": "code",
      "execution_count": null,
      "metadata": {},
      "outputs": [],
      "source": [
        "# 测试句子\n",
        "test_sentence = \"Claude即将是自然语言处理方面的高手。\"\n",
        "\n",
        "print(\"1. 加载自定义词典前的分词结果：\")\n",
        "print(\"=\" * 40)\n",
        "seg_list_before = jieba.cut(test_sentence, HMM=False)\n",
        "result_before = \"/ \".join(seg_list_before)\n",
        "print(f\"分词结果: {result_before}\")\n",
        "\n",
        "# 检查Claude是否被正确识别\n",
        "if \"Claude\" in result_before:\n",
        "    print(\"✓ Claude 被正确识别为一个完整词汇\")\n",
        "else:\n",
        "    print(\"✗ Claude 未能被正确识别\")\n",
        "\n",
        "print(\"\\n2. 加载自定义词典...\")\n",
        "# 载入自定义词典\n",
        "jieba.load_userdict('./userdict.txt')\n",
        "print(\"自定义词典加载完成！\")\n",
        "\n",
        "print(\"\\n3. 加载自定义词典后的分词结果：\")\n",
        "print(\"=\" * 40)\n",
        "# 使用jieba.cut方法，设置参数HMM=False，对句子进行分词\n",
        "seg_list_after = jieba.cut(test_sentence, HMM=False)\n",
        "result_after = \"/ \".join(seg_list_after)\n",
        "print(f\"分词结果: {result_after}\")\n",
        "\n",
        "# 验证Claude是否被正确识别\n",
        "if \"Claude\" in result_after:\n",
        "    print(\"✓ Claude 被正确识别为一个完整词汇\")\n",
        "else:\n",
        "    print(\"✗ Claude 未能被正确识别\")\n",
        "\n",
        "print(\"\\n4. 分词效果对比：\")\n",
        "print(\"=\" * 40)\n",
        "print(f\"加载词典前: {result_before}\")\n",
        "print(f\"加载词典后: {result_after}\")\n"
      ]
    },
    {
      "cell_type": "code",
      "execution_count": null,
      "metadata": {
        "vscode": {
          "languageId": "plaintext"
        }
      },
      "outputs": [],
      "source": [
        "# 基于字典的中文分词\n",
        "\n",
        "本notebook演示如何使用jieba进行基于字典的中文分词，包括自定义词典的使用。\n",
        "\n",
        "## 任务目标\n",
        "1. 加载自定义词典\n",
        "2. 验证词典效果\n",
        "3. 对比分词结果\n"
      ]
    },
    {
      "cell_type": "code",
      "execution_count": null,
      "metadata": {},
      "outputs": [],
      "source": [
        "# 导入必要的库\n",
        "import jieba\n",
        "import jieba.posseg as pseg\n",
        "\n",
        "# 检查jieba版本\n",
        "print(f\"jieba版本: {jieba.__version__}\")\n",
        "print(\"=\" * 50)\n"
      ]
    },
    {
      "cell_type": "code",
      "execution_count": null,
      "metadata": {
        "vscode": {
          "languageId": "plaintext"
        }
      },
      "outputs": [],
      "source": [
        "## 载入词典\n",
        "\n",
        "使用jieba.load_userdict()方法加载自定义词典，确保Claude等专有名词能被正确识别。\n"
      ]
    },
    {
      "cell_type": "code",
      "execution_count": null,
      "metadata": {},
      "outputs": [],
      "source": [
        "# 测试句子\n",
        "test_sentence = \"Claude即将是自然语言处理方面的高手。\"\n",
        "\n",
        "print(\"1. 加载自定义词典前的分词结果：\")\n",
        "print(\"=\" * 40)\n",
        "seg_list_before = jieba.cut(test_sentence, HMM=False)\n",
        "result_before = \"/ \".join(seg_list_before)\n",
        "print(f\"分词结果: {result_before}\")\n",
        "\n",
        "# 检查Claude是否被正确识别\n",
        "if \"Claude\" in result_before:\n",
        "    print(\"✓ Claude 被正确识别为一个完整词汇\")\n",
        "else:\n",
        "    print(\"✗ Claude 未能被正确识别\")\n",
        "\n",
        "print(\"\\n2. 加载自定义词典...\")\n",
        "# 载入自定义词典\n",
        "jieba.load_userdict('./userdict.txt')\n",
        "print(\"自定义词典加载完成！\")\n",
        "\n",
        "print(\"\\n3. 加载自定义词典后的分词结果：\")\n",
        "print(\"=\" * 40)\n",
        "# 使用jieba.cut方法，设置参数HMM=False，对句子进行分词\n",
        "seg_list_after = jieba.cut(test_sentence, HMM=False)\n",
        "result_after = \"/ \".join(seg_list_after)\n",
        "print(f\"分词结果: {result_after}\")\n",
        "\n",
        "# 验证Claude是否被正确识别\n",
        "if \"Claude\" in result_after:\n",
        "    print(\"✓ Claude 被正确识别为一个完整词汇\")\n",
        "else:\n",
        "    print(\"✗ Claude 未能被正确识别\")\n",
        "\n",
        "print(\"\\n4. 分词效果对比：\")\n",
        "print(\"=\" * 40)\n",
        "print(f\"加载词典前: {result_before}\")\n",
        "print(f\"加载词典后: {result_after}\")\n"
      ]
    },
    {
      "cell_type": "code",
      "execution_count": null,
      "metadata": {
        "vscode": {
          "languageId": "plaintext"
        }
      },
      "outputs": [],
      "source": [
        "# 基于字典的中文分词\n",
        "\n",
        "本notebook演示如何使用jieba进行基于字典的中文分词，包括自定义词典的使用。\n",
        "\n",
        "## 目录\n",
        "1. jieba基础分词\n",
        "2. 自定义词典加载\n",
        "3. 分词效果对比\n",
        "4. 词典验证\n"
      ]
    },
    {
      "cell_type": "code",
      "execution_count": null,
      "metadata": {
        "vscode": {
          "languageId": "plaintext"
        }
      },
      "outputs": [],
      "source": [
        "## 1. jieba基础分词\n"
      ]
    },
    {
      "cell_type": "code",
      "execution_count": null,
      "metadata": {},
      "outputs": [],
      "source": [
        "import jieba\n",
        "import jieba.posseg as pseg\n",
        "\n",
        "# 测试句子\n",
        "test_sentence = \"Hello Kitty即将是自然语言处理方面的高手。\"\n",
        "\n",
        "print(\"基础分词结果（未加载自定义词典）：\")\n",
        "seg_list = jieba.cut(test_sentence, HMM=False)\n",
        "print(\"/ \".join(seg_list))\n",
        "\n",
        "print(\"\\n带词性标注的分词结果：\")\n",
        "words = pseg.cut(test_sentence)\n",
        "for word, flag in words:\n",
        "    print(f'{word} {flag}')\n"
      ]
    },
    {
      "cell_type": "code",
      "execution_count": null,
      "metadata": {
        "vscode": {
          "languageId": "plaintext"
        }
      },
      "outputs": [],
      "source": [
        "## 2. 载入词典\n",
        "\n",
        "根据README中指定的自定义词典方法，我们创建了userdict.txt文件，按照格式把Hello Kitty等词汇加入词典。\n",
        "\n",
        "词典格式参考：https://github.com/fxsjy/jieba/blob/master/test/userdict.txt\n",
        "\n",
        "格式为：`词语 词频 词性`，其中词频和词性可以省略。\n"
      ]
    },
    {
      "cell_type": "code",
      "execution_count": null,
      "metadata": {},
      "outputs": [],
      "source": [
        "# 载入自定义词典，确保文件路径正确\n",
        "jieba.load_userdict('./userdict.txt')\n",
        "\n",
        "print(\"载入自定义词典后的分词结果：\")\n",
        "print(\"=\" * 50)\n",
        "\n",
        "# 使用jieba.cut方法，设置参数HMM=False，对句子进行分词\n",
        "seg_list = jieba.cut(\"Hello Kitty即将是自然语言处理方面的高手。\", HMM=False)\n",
        "result = \"/ \".join(seg_list)\n",
        "print(f\"分词结果: {result}\")\n",
        "\n",
        "# 验证Hello Kitty是否被正确切分为一个整词\n",
        "print(f\"\\n验证结果:\")\n",
        "if \"Hello Kitty\" in result:\n",
        "    print(\"✓ Hello Kitty 被正确识别为一个完整词汇\")\n",
        "else:\n",
        "    print(\"✗ Hello Kitty 未能被正确识别\")\n"
      ]
    },
    {
      "cell_type": "code",
      "execution_count": null,
      "metadata": {
        "vscode": {
          "languageId": "plaintext"
        }
      },
      "outputs": [],
      "source": [
        "# 基于字典的中文分词\n",
        "\n",
        "本notebook演示如何使用jieba进行基于字典的中文分词，包括自定义词典的使用。\n",
        "\n",
        "## 目录\n",
        "1. jieba基础分词\n",
        "2. 载入自定义词典\n",
        "3. 分词效果对比\n",
        "4. 词典验证\n"
      ]
    },
    {
      "cell_type": "code",
      "execution_count": null,
      "metadata": {
        "vscode": {
          "languageId": "plaintext"
        }
      },
      "outputs": [],
      "source": [
        "## 1. jieba基础分词\n"
      ]
    },
    {
      "cell_type": "code",
      "execution_count": null,
      "metadata": {},
      "outputs": [],
      "source": [
        "import jieba\n",
        "import jieba.posseg as pseg\n",
        "\n",
        "# 测试句子\n",
        "test_sentence = \"Hello Kitty即将是自然语言处理方面的高手。\"\n",
        "\n",
        "print(\"原始分词结果：\")\n",
        "seg_list = jieba.cut(test_sentence, HMM=False)\n",
        "print(\"/ \".join(seg_list))\n",
        "\n",
        "print(\"\\n带词性标注的分词结果：\")\n",
        "words = pseg.cut(test_sentence)\n",
        "for word, flag in words:\n",
        "    print(f'{word} {flag}')\n"
      ]
    },
    {
      "cell_type": "code",
      "execution_count": null,
      "metadata": {},
      "outputs": [],
      "source": [
        "## 2. 载入词典\n",
        "\n",
        "我们创建了userdict.txt文件，包含Hello Kitty相关的词汇。现在载入这个自定义词典。\n"
      ]
    },
    {
      "cell_type": "code",
      "execution_count": null,
      "metadata": {},
      "outputs": [],
      "source": [
        "# 载入自定义词典\n",
        "jieba.load_userdict('./userdict.txt')\n",
        "\n",
        "print(\"载入自定义词典后的分词结果：\")\n",
        "seg_list = jieba.cut(test_sentence, HMM=False)\n",
        "print(\"/ \".join(seg_list))\n",
        "\n",
        "print(\"\\n带词性标注的分词结果：\")\n",
        "words = pseg.cut(test_sentence)\n",
        "for word, flag in words:\n",
        "    print(f'{word} {flag}')\n"
      ]
    }
  ],
  "metadata": {
    "language_info": {
      "name": "python"
    }
  },
  "nbformat": 4,
  "nbformat_minor": 2
}
