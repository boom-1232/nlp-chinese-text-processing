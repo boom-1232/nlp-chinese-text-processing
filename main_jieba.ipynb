{
  "cells": [
    {
      "cell_type": "code",
      "execution_count": null,
      "metadata": {
        "vscode": {
          "languageId": "plaintext"
        }
      },
      "outputs": [],
      "source": [
        "# 关键词提取\n",
        "\n",
        "本notebook展示jieba的关键词提取功能，重点介绍TextRank算法。\n",
        "\n",
        "## 目录\n",
        "1. TextRank关键词提取算法原理\n",
        "2. Jieba中TextRank算法的实现逻辑  \n",
        "3. 关键词提取实践\n",
        "4. 算法效果对比\n"
      ]
    },
    {
      "cell_type": "code",
      "execution_count": null,
      "metadata": {},
      "outputs": [],
      "source": [
        "# 导入必要的库\n",
        "import jieba\n",
        "import jieba.analyse\n",
        "import jieba.posseg as pseg\n",
        "\n",
        "# 载入自定义词典\n",
        "jieba.load_userdict('./userdict.txt')\n",
        "\n",
        "print(\"jieba关键词提取模块初始化完成\")\n",
        "print(\"=\" * 50)\n"
      ]
    },
    {
      "cell_type": "code",
      "execution_count": null,
      "metadata": {},
      "outputs": [],
      "source": [
        "# 燕山大学相关句子的关键词提取\n",
        "target_sentence = \"燕山大学是河北省人民政府、教育部、工业和信息化部、国家国防科技工业局四方共建的全国重点大学，河北省重点支持的国家一流大学和世界一流学科建设高校，北京高科大学联盟成员。\"\n",
        "\n",
        "print(\"目标句子：\")\n",
        "print(target_sentence)\n",
        "print(\"\\n\" + \"=\" * 80)\n",
        "\n",
        "# 使用TextRank算法提取关键词\n",
        "print(\"基于TextRank算法的关键词抽取：\")\n",
        "print(\"-\" * 40)\n",
        "\n",
        "# 提取top-5关键词，返回权重\n",
        "keywords_with_weight = jieba.analyse.textrank(target_sentence, topK=5, withWeight=True)\n",
        "print(\"Top-5关键词（含权重）:\")\n",
        "for i, (keyword, weight) in enumerate(keywords_with_weight, 1):\n",
        "    print(f\"{i}. {keyword} (权重: {weight:.4f})\")\n",
        "\n",
        "print(\"\\n\" + \"-\" * 40)\n",
        "\n",
        "# 对比TF-IDF算法的结果\n",
        "print(\"对比：基于TF-IDF算法的关键词抽取\")\n",
        "tfidf_keywords = jieba.analyse.extract_tags(target_sentence, topK=5, withWeight=True)\n",
        "print(\"TF-IDF Top-5关键词:\")\n",
        "for i, (keyword, weight) in enumerate(tfidf_keywords, 1):\n",
        "    print(f\"{i}. {keyword} (权重: {weight:.4f})\")\n"
      ]
    },
    {
      "cell_type": "code",
      "execution_count": null,
      "metadata": {
        "vscode": {
          "languageId": "plaintext"
        }
      },
      "outputs": [],
      "source": [
        "# 关键词提取\n",
        "\n",
        "本notebook展示jieba的关键词提取功能，重点介绍TextRank算法。\n",
        "\n",
        "## 目录\n",
        "1. TextRank关键词提取算法原理\n",
        "2. Jieba中TextRank算法的实现逻辑  \n",
        "3. 关键词提取实践\n",
        "4. 算法效果对比\n"
      ]
    },
    {
      "cell_type": "code",
      "execution_count": null,
      "metadata": {},
      "outputs": [],
      "source": [
        "# 导入必要的库\n",
        "import jieba\n",
        "import jieba.analyse\n",
        "import jieba.posseg as pseg\n",
        "\n",
        "# 载入自定义词典\n",
        "jieba.load_userdict('./userdict.txt')\n",
        "\n",
        "print(\"jieba关键词提取模块初始化完成\")\n",
        "print(\"=\" * 50)\n"
      ]
    },
    {
      "cell_type": "code",
      "execution_count": null,
      "metadata": {
        "vscode": {
          "languageId": "plaintext"
        }
      },
      "outputs": [],
      "source": [
        "## 1. TextRank关键词提取算法\n",
        "\n",
        "### TextRank算法原理\n",
        "\n",
        "TextRank是一种基于图的排序算法，由Google的PageRank算法启发而来，专门用于文本关键词提取和文本摘要。\n",
        "\n",
        "#### 算法核心思想：\n",
        "1. **构建词汇图**：将文本中的词汇作为图的节点\n",
        "2. **建立边关系**：根据词汇之间的共现关系建立有权边  \n",
        "3. **迭代计算权重**：通过类似PageRank的迭代算法计算每个词汇的重要性得分\n",
        "4. **排序选择**：根据得分排序，选择top-K个词汇作为关键词\n",
        "\n",
        "#### 算法流程：\n",
        "\n",
        "1. **文本预处理**\n",
        "   - 对文本进行分词\n",
        "   - 过滤停用词\n",
        "   - 只保留指定词性的词汇（如名词、动词、形容词等）\n",
        "\n",
        "2. **构建共现图**\n",
        "   - 设定滑动窗口大小（通常为5）\n",
        "   - 在窗口内的词汇之间建立无向边\n",
        "   - 边的权重可以根据共现频率设定\n",
        "\n",
        "3. **迭代计算节点权重**\n",
        "   - 使用类似PageRank的公式：\n",
        "   ```\n",
        "   WS(Vi) = (1-d) + d × Σ[wji/Σwjk × WS(Vj)]\n",
        "   ```\n",
        "   - 其中d为阻尼系数（通常取0.85）\n",
        "   - wji为节点j到节点i的边权重\n",
        "\n",
        "4. **收敛判断与结果输出**\n",
        "   - 迭代直到权重变化小于阈值\n",
        "   - 按权重排序，返回前K个词汇\n",
        "\n",
        "### 算法优势：\n",
        "- **无监督学习**：不需要训练数据\n",
        "- **语言无关**：适用于各种语言\n",
        "- **考虑词汇关系**：比简单统计频率更准确\n",
        "- **参数可调**：窗口大小、迭代次数等可以调整\n"
      ]
    },
    {
      "cell_type": "code",
      "execution_count": null,
      "metadata": {
        "vscode": {
          "languageId": "plaintext"
        }
      },
      "outputs": [],
      "source": [
        "## 2. Jieba库中TextRank算法的实现逻辑\n",
        "\n",
        "### 实现细节：\n",
        "\n",
        "#### 2.1 词汇过滤策略\n",
        "```python\n",
        "# jieba.analyse.textrank的默认词性过滤\n",
        "allowPOS = ('ns', 'n', 'vn', 'v', 'nr')\n",
        "```\n",
        "- **ns**: 地名\n",
        "- **n**: 普通名词  \n",
        "- **vn**: 动名词\n",
        "- **v**: 动词\n",
        "- **nr**: 人名\n",
        "\n",
        "#### 2.2 窗口设置\n",
        "- **默认窗口大小**: 5\n",
        "- **滑动方式**: 逐词滑动\n",
        "- **边权重**: 共现次数\n",
        "\n",
        "#### 2.3 迭代参数\n",
        "- **最大迭代次数**: 通常为200次\n",
        "- **收敛阈值**: 权重变化小于0.0001\n",
        "- **阻尼系数**: 0.85\n",
        "\n",
        "#### 2.4 关键接口说明\n",
        "\n",
        "**jieba.analyse.textrank(sentence, topK=20, withWeight=False, allowPOS=('ns','n','vn','v'), withFlag=False)**\n",
        "\n",
        "参数说明：\n",
        "- `sentence`: 待分析的文本\n",
        "- `topK`: 返回几个TF/IDF权重最大的关键词\n",
        "- `withWeight`: 是否一并返回关键词权重值\n",
        "- `allowPOS`: 仅包括指定词性的词\n",
        "- `withFlag`: 是否返回关键词词性\n"
      ]
    },
    {
      "cell_type": "code",
      "execution_count": null,
      "metadata": {
        "vscode": {
          "languageId": "plaintext"
        }
      },
      "outputs": [],
      "source": [
        "## 3. 关键词提取实践\n",
        "\n",
        "参考jieba仓库中\"基于TextRank算法的关键词抽取\"接口介绍，对燕山大学句子提取top-5关键词。\n"
      ]
    },
    {
      "cell_type": "code",
      "execution_count": null,
      "metadata": {},
      "outputs": [],
      "source": [
        "# 燕山大学相关句子的关键词提取\n",
        "target_sentence = \"燕山大学是河北省人民政府、教育部、工业和信息化部、国家国防科技工业局四方共建的全国重点大学，河北省重点支持的国家一流大学和世界一流学科建设高校，北京高科大学联盟成员。\"\n",
        "\n",
        "print(\"目标句子：\")\n",
        "print(target_sentence)\n",
        "print(\"\\n\" + \"=\" * 80)\n",
        "\n",
        "# 使用TextRank算法提取关键词\n",
        "print(\"基于TextRank算法的关键词抽取：\")\n",
        "print(\"-\" * 40)\n",
        "\n",
        "# 提取top-5关键词，不返回权重\n",
        "keywords = jieba.analyse.textrank(target_sentence, topK=5, withWeight=False)\n",
        "print(\"Top-5关键词（不含权重）:\")\n",
        "for i, keyword in enumerate(keywords, 1):\n",
        "    print(f\"{i}. {keyword}\")\n",
        "\n",
        "print(\"\\n\" + \"-\" * 40)\n",
        "\n",
        "# 提取top-5关键词，返回权重\n",
        "keywords_with_weight = jieba.analyse.textrank(target_sentence, topK=5, withWeight=True)\n",
        "print(\"Top-5关键词（含权重）:\")\n",
        "for i, (keyword, weight) in enumerate(keywords_with_weight, 1):\n",
        "    print(f\"{i}. {keyword} (权重: {weight:.4f})\")\n",
        "\n",
        "print(\"\\n\" + \"=\" * 80)\n"
      ]
    },
    {
      "cell_type": "code",
      "execution_count": null,
      "metadata": {
        "vscode": {
          "languageId": "plaintext"
        }
      },
      "outputs": [],
      "source": [
        "## 4. 算法效果对比\n",
        "\n",
        "对比TextRank算法与TF-IDF算法的关键词提取效果。\n"
      ]
    },
    {
      "cell_type": "code",
      "execution_count": null,
      "metadata": {},
      "outputs": [],
      "source": [
        "# 对比TF-IDF算法的结果\n",
        "print(\"对比：基于TF-IDF算法的关键词抽取\")\n",
        "print(\"-\" * 40)\n",
        "tfidf_keywords = jieba.analyse.extract_tags(target_sentence, topK=5, withWeight=True)\n",
        "print(\"TF-IDF Top-5关键词:\")\n",
        "for i, (keyword, weight) in enumerate(tfidf_keywords, 1):\n",
        "    print(f\"{i}. {keyword} (权重: {weight:.4f})\")\n",
        "\n",
        "print(\"\\n\" + \"=\" * 80)\n",
        "print(\"算法对比总结：\")\n",
        "print(\"-\" * 40)\n",
        "print(\"TextRank算法特点：\")\n",
        "print(\"- 基于图结构，考虑词汇间的共现关系\")\n",
        "print(\"- 无需预先构建语料库\")\n",
        "print(\"- 更适合单文档关键词提取\")\n",
        "print(\"- 能发现语义相关的重要词汇\")\n",
        "\n",
        "print(\"\\nTF-IDF算法特点：\")\n",
        "print(\"- 基于词频和逆文档频率\")\n",
        "print(\"- 需要较大语料库计算IDF值\")\n",
        "print(\"- 更适合多文档集合的关键词提取\")\n",
        "print(\"- 侧重于统计特征明显的词汇\")\n",
        "\n",
        "print(\"\\n实验结论：\")\n",
        "print(\"- 两种算法提取的关键词可能存在差异\")\n",
        "print(\"- TextRank更注重词汇间的关联性\")\n",
        "print(\"- TF-IDF更注重词汇的统计特征\")\n",
        "print(\"- 具体应用场景决定算法选择\")\n"
      ]
    },
    {
      "cell_type": "code",
      "execution_count": null,
      "metadata": {
        "vscode": {
          "languageId": "plaintext"
        }
      },
      "outputs": [],
      "source": [
        "# Jieba中文分词与关键词提取\n",
        "\n",
        "本notebook展示jieba的关键词提取功能，重点介绍TextRank算法。\n",
        "\n",
        "## 目录\n",
        "1. 载入词典验证\n",
        "2. 关键词提取\n",
        "3. TextRank关键词提取实践\n"
      ]
    },
    {
      "cell_type": "code",
      "execution_count": null,
      "metadata": {
        "vscode": {
          "languageId": "plaintext"
        }
      },
      "outputs": [],
      "source": [
        "## 1. 载入词典\n",
        "\n",
        "验证自定义词典的加载效果，确保Hello Kitty等专有名词能被正确识别。\n"
      ]
    },
    {
      "cell_type": "code",
      "execution_count": null,
      "metadata": {},
      "outputs": [],
      "source": [
        "import jieba\n",
        "import jieba.analyse\n",
        "\n",
        "# 载入自定义词典\n",
        "jieba.load_userdict('./userdict.txt')\n",
        "\n",
        "# 词典加载验证\n",
        "test_sentence = \"Hello Kitty即将是自然语言处理方面的高手。\"\n",
        "\n",
        "print(\"词典加载验证：\")\n",
        "print(\"=\" * 50)\n",
        "seg_list = jieba.cut(test_sentence, HMM=False)\n",
        "result = \"/ \".join(seg_list)\n",
        "print(f\"分词结果: {result}\")\n",
        "\n",
        "# 验证Hello Kitty是否被正确识别为一个词\n",
        "if \"Hello Kitty\" in result:\n",
        "    print(\"✓ Hello Kitty 被正确识别为一个完整词汇\")\n",
        "else:\n",
        "    print(\"✗ Hello Kitty 未能被正确识别\")\n"
      ]
    },
    {
      "cell_type": "code",
      "execution_count": null,
      "metadata": {
        "vscode": {
          "languageId": "plaintext"
        }
      },
      "outputs": [],
      "source": [
        "## 2. 关键词提取\n",
        "\n",
        "### TextRank关键词提取算法\n",
        "\n",
        "TextRank算法是一种基于图的排序算法，由Google的PageRank算法启发而来，专门用于文本关键词提取和文本摘要。\n",
        "\n",
        "#### TextRank原理：\n",
        "\n",
        "1. **构建图结构**：将文本中的词语作为图的节点\n",
        "2. **建立边权重**：根据词语之间的共现关系建立边，通常在固定窗口大小内共现的词语之间建立连接\n",
        "3. **迭代计算权重**：使用PageRank算法计算每个节点（词语）的重要性得分\n",
        "4. **排序选择**：根据得分排序，选择top-K个词语作为关键词\n",
        "\n",
        "#### 算法流程：\n",
        "\n",
        "1. 对文本进行分词和词性标注\n",
        "2. 过滤停用词，只保留指定词性的词语（如名词、动词等）\n",
        "3. 构建词语共现网络图\n",
        "4. 在图上运行迭代算法，计算词语权重\n",
        "5. 对词语权重进行排序，取前K个作为关键词\n",
        "\n",
        "#### 在Jieba库中TextRank算法的实现逻辑：\n",
        "\n",
        "- 使用固定窗口大小（默认为5）扫描文本\n",
        "- 只考虑特定词性的词语（默认：'ns', 'n', 'vn', 'v'）\n",
        "- 构建无向带权图\n",
        "- 使用迭代算法计算节点权重，直到收敛\n"
      ]
    },
    {
      "cell_type": "code",
      "execution_count": null,
      "metadata": {
        "vscode": {
          "languageId": "plaintext"
        }
      },
      "outputs": [],
      "source": [
        "## 3. 关键词提取实践\n",
        "\n",
        "参考jieba仓库中\"基于TextRank算法的关键词抽取\"接口介绍，对指定句子提取top-5关键词。\n"
      ]
    },
    {
      "cell_type": "code",
      "execution_count": null,
      "metadata": {},
      "outputs": [],
      "source": [
        "# 燕山大学相关句子的关键词提取\n",
        "target_sentence = \"燕山大学是河北省人民政府、教育部、工业和信息化部、国家国防科技工业局四方共建的全国重点大学，河北省重点支持的国家一流大学和世界一流学科建设高校，北京高科大学联盟成员。\"\n",
        "\n",
        "print(\"目标句子：\")\n",
        "print(target_sentence)\n",
        "print(\"\\n\" + \"=\" * 80)\n",
        "\n",
        "# 使用TextRank算法提取关键词\n",
        "print(\"基于TextRank算法的关键词抽取：\")\n",
        "print(\"-\" * 40)\n",
        "\n",
        "# 提取top-5关键词，不返回权重\n",
        "keywords = jieba.analyse.textrank(target_sentence, topK=5, withWeight=False)\n",
        "print(\"Top-5关键词（不含权重）:\")\n",
        "for i, keyword in enumerate(keywords, 1):\n",
        "    print(f\"{i}. {keyword}\")\n",
        "\n",
        "print(\"\\n\" + \"-\" * 40)\n",
        "\n",
        "# 提取top-5关键词，返回权重\n",
        "keywords_with_weight = jieba.analyse.textrank(target_sentence, topK=5, withWeight=True)\n",
        "print(\"Top-5关键词（含权重）:\")\n",
        "for i, (keyword, weight) in enumerate(keywords_with_weight, 1):\n",
        "    print(f\"{i}. {keyword} (权重: {weight:.4f})\")\n",
        "\n",
        "print(\"\\n\" + \"=\" * 80)\n",
        "\n",
        "# 对比TF-IDF算法的结果\n",
        "print(\"对比：基于TF-IDF算法的关键词抽取\")\n",
        "print(\"-\" * 40)\n",
        "tfidf_keywords = jieba.analyse.extract_tags(target_sentence, topK=5, withWeight=True)\n",
        "print(\"TF-IDF Top-5关键词:\")\n",
        "for i, (keyword, weight) in enumerate(tfidf_keywords, 1):\n",
        "    print(f\"{i}. {keyword} (权重: {weight:.4f})\")\n"
      ]
    },
    {
      "cell_type": "code",
      "execution_count": null,
      "metadata": {
        "vscode": {
          "languageId": "plaintext"
        }
      },
      "outputs": [],
      "source": [
        "# Jieba中文分词与关键词提取\n",
        "\n",
        "本notebook展示jieba的中文分词功能和关键词提取算法。\n",
        "\n",
        "## 目录\n",
        "1. 载入词典验证\n",
        "2. 关键词提取原理\n",
        "3. TextRank关键词提取实践\n"
      ]
    },
    {
      "cell_type": "code",
      "execution_count": null,
      "metadata": {
        "vscode": {
          "languageId": "plaintext"
        }
      },
      "outputs": [],
      "source": [
        "## 1. 载入词典\n",
        "\n",
        "验证自定义词典的加载效果，确保Hello Kitty等专有名词能被正确识别。\n"
      ]
    },
    {
      "cell_type": "code",
      "execution_count": null,
      "metadata": {},
      "outputs": [],
      "source": [
        "import jieba\n",
        "import jieba.analyse\n",
        "\n",
        "# 载入自定义词典\n",
        "jieba.load_userdict('./userdict.txt')\n",
        "\n",
        "# 测试句子 - 使用Hello Kitty作为姓名\n",
        "test_sentence = \"Hello Kitty即将是自然语言处理方面的高手。\"\n",
        "\n",
        "print(\"词典加载验证：\")\n",
        "print(\"=\" * 50)\n",
        "seg_list = jieba.cut(test_sentence, HMM=False)\n",
        "result = \"/ \".join(seg_list)\n",
        "print(f\"分词结果: {result}\")\n",
        "\n",
        "# 验证Hello Kitty是否被正确识别为一个词\n",
        "if \"Hello Kitty\" in result:\n",
        "    print(\"✓ Hello Kitty 被正确识别为一个完整词汇\")\n",
        "else:\n",
        "    print(\"✗ Hello Kitty 未能被正确识别\")\n"
      ]
    },
    {
      "cell_type": "code",
      "execution_count": null,
      "metadata": {},
      "outputs": [],
      "source": [
        "## 2. 关键词提取\n",
        "\n",
        "### TextRank关键词提取算法\n",
        "\n",
        "TextRank是一种基于图的排序算法，用于关键词提取和文档摘要。\n",
        "\n",
        "#### TextRank原理：\n",
        "\n",
        "1. **文本预处理**：将文本进行分词，并过滤停用词\n",
        "2. **构建词汇图**：\n",
        "   - 将词汇作为图中的节点\n",
        "   - 根据词汇共现关系（在固定窗口内同时出现）建立边\n",
        "   - 边的权重可以根据共现频率设定\n",
        "3. **迭代计算**：\n",
        "   - 使用类似PageRank的算法计算每个词汇的重要性得分\n",
        "   - 公式：WS(Vi) = (1-d) + d × Σ(wji/Σwjk) × WS(Vj)\n",
        "   - 其中d为阻尼系数，通常取0.85\n",
        "4. **关键词选择**：根据得分排序，选择topK个词作为关键词\n",
        "\n",
        "#### Jieba中TextRank的实现逻辑：\n",
        "\n",
        "1. 使用jieba进行分词\n",
        "2. 过滤指定词性的词汇（默认为名词、动词等）\n",
        "3. 在固定窗口大小内构建词汇共现图\n",
        "4. 迭代计算词汇权重直到收敛\n",
        "5. 返回权重最高的前K个词汇\n"
      ]
    }
  ],
  "metadata": {
    "language_info": {
      "name": "python"
    }
  },
  "nbformat": 4,
  "nbformat_minor": 2
}
